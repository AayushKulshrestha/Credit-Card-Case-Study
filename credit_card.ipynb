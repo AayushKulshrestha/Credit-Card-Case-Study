{
 "cells": [
  {
   "cell_type": "code",
   "execution_count": 1,
   "id": "8f2b49e2",
   "metadata": {},
   "outputs": [],
   "source": [
    "import pandas as pd\n",
    "import numpy as np\n",
    "import matplotlib.pyplot as plt\n",
    "import datetime as dt\n",
    "import seaborn as sns\n",
    "import re\n",
    "\n",
    "#set the graphs to show in the jupyter notebook\n",
    "%matplotlib inline\n",
    "\n",
    "#set seabor graphs to a better style\n",
    "sns.set(style=\"ticks\")"
   ]
  },
  {
   "cell_type": "code",
   "execution_count": 2,
   "id": "e7fc86d5",
   "metadata": {},
   "outputs": [
    {
     "name": "stdout",
     "output_type": "stream",
     "text": [
      "     No Customer  Age        City   Product     Limit Company        Segment\n",
      "0     1       A1   76   BANGALORE      Gold  500000.0      C1  Self Employed\n",
      "1     2       A2   71    CALCUTTA    Silver  100000.0      C2   Salaried_MNC\n",
      "2     3       A3   34      COCHIN  Platimum   10000.0      C3   Salaried_Pvt\n",
      "3     4       A4   47      BOMBAY  Platimum   10001.0      C4           Govt\n",
      "4     5       A5   56   BANGALORE  Platimum   10002.0      C5  Normal Salary\n",
      "..  ...      ...  ...         ...       ...       ...     ...            ...\n",
      "95   96      A96   54     CHENNAI    Silver  100000.0     C19   Salaried_Pvt\n",
      "96   97      A97   58  TRIVANDRUM  Platimum   10000.0     C20           Govt\n",
      "97   98      A98   51    CALCUTTA  Platimum   10001.0     C21  Normal Salary\n",
      "98   99      A99   35    CALCUTTA  Platimum   10002.0     C22  Self Employed\n",
      "99  100     A100   36      COCHIN    Silver  100000.0      C5   Salaried_MNC\n",
      "\n",
      "[100 rows x 8 columns]\n"
     ]
    }
   ],
   "source": [
    "customer_acq=pd.read_csv('F:\\Analytix_Labs\\Python for data science\\Case_Study\\Python Foundation Case Study 2 - Credit Card Case Study\\Customer Acqusition.csv')\n",
    "print(customer_acq)"
   ]
  },
  {
   "cell_type": "code",
   "execution_count": 3,
   "id": "d6219dab",
   "metadata": {},
   "outputs": [
    {
     "name": "stdout",
     "output_type": "stream",
     "text": [
      "      SL No: Customer      Month     Amount  Unnamed: 4\n",
      "0        NaN       A1  12-Jan-04  495414.75         NaN\n",
      "1        2.0       A1   3-Jan-04  245899.02         NaN\n",
      "2        3.0       A1  15-Jan-04  259490.06         NaN\n",
      "3        4.0       A1  25-Jan-04  437555.12         NaN\n",
      "4        5.0       A1  17-Jan-05  165972.88         NaN\n",
      "...      ...      ...        ...        ...         ...\n",
      "1518     NaN      NaN        NaN        NaN         NaN\n",
      "1519     NaN      NaN        NaN        NaN         NaN\n",
      "1520     NaN      NaN        NaN        NaN         NaN\n",
      "1521     NaN      NaN        NaN        NaN         NaN\n",
      "1522     NaN      NaN        NaN        NaN         NaN\n",
      "\n",
      "[1523 rows x 5 columns]\n"
     ]
    }
   ],
   "source": [
    "repayment=pd.read_csv('F:\\Analytix_Labs\\Python for data science\\Case_Study\\Python Foundation Case Study 2 - Credit Card Case Study\\Repayment.csv')\n",
    "print(repayment)"
   ]
  },
  {
   "cell_type": "code",
   "execution_count": 36,
   "id": "d4748d9b",
   "metadata": {},
   "outputs": [
    {
     "name": "stdout",
     "output_type": "stream",
     "text": [
      "      SL No: Customer      Month     Amount  Unnamed: 4\n",
      "0        NaN       A1 2004-01-12  495414.75         NaN\n",
      "1        2.0       A1 2004-01-03  245899.02         NaN\n",
      "2        3.0       A1 2004-01-15  259490.06         NaN\n",
      "3        4.0       A1 2004-01-25  437555.12         NaN\n",
      "4        5.0       A1 2005-01-17  165972.88         NaN\n",
      "...      ...      ...        ...        ...         ...\n",
      "1518     NaN      NaN        NaT        NaN         NaN\n",
      "1519     NaN      NaN        NaT        NaN         NaN\n",
      "1520     NaN      NaN        NaT        NaN         NaN\n",
      "1521     NaN      NaN        NaT        NaN         NaN\n",
      "1522     NaN      NaN        NaT        NaN         NaN\n",
      "\n",
      "[1523 rows x 5 columns]\n"
     ]
    }
   ],
   "source": [
    "repayment['Month']=repayment['Month'].apply(lambda x:pd.to_datetime(x))\n",
    "print(repayment)"
   ]
  },
  {
   "cell_type": "code",
   "execution_count": 4,
   "id": "1b8a2afc",
   "metadata": {},
   "outputs": [
    {
     "name": "stdout",
     "output_type": "stream",
     "text": [
      "      Sl No: Customer      Month        Type     Amount\n",
      "0          1       A1  12-Jan-04   JEWELLERY  485470.80\n",
      "1          2       A1   3-Jan-04       PETRO  410556.13\n",
      "2          3       A1  15-Jan-04     CLOTHES   23740.46\n",
      "3          4       A1  25-Jan-04        FOOD  484342.47\n",
      "4          5       A1  17-Jan-05      CAMERA  369694.07\n",
      "...      ...      ...        ...         ...        ...\n",
      "1495    1496      A67   4-Feb-06  BUS TICKET  356872.73\n",
      "1496    1497      A68  25-Mar-06  BUS TICKET  204971.10\n",
      "1497    1498      A69  31-Mar-06  BUS TICKET   50449.44\n",
      "1498    1499      A70  23-Mar-06  BUS TICKET   80593.94\n",
      "1499    1500      A71  24-Mar-06  BUS TICKET  194447.62\n",
      "\n",
      "[1500 rows x 5 columns]\n"
     ]
    }
   ],
   "source": [
    "spend=pd.read_csv('F:\\Analytix_Labs\\Python for data science\\Case_Study\\Python Foundation Case Study 2 - Credit Card Case Study\\spend.csv')\n",
    "print(spend)"
   ]
  },
  {
   "cell_type": "code",
   "execution_count": 38,
   "id": "815f01fb",
   "metadata": {},
   "outputs": [
    {
     "name": "stdout",
     "output_type": "stream",
     "text": [
      "      Sl No: Customer      Month        Type     Amount\n",
      "0          1       A1 2004-01-12   JEWELLERY  485470.80\n",
      "1          2       A1 2004-01-03       PETRO  410556.13\n",
      "2          3       A1 2004-01-15     CLOTHES   23740.46\n",
      "3          4       A1 2004-01-25        FOOD  484342.47\n",
      "4          5       A1 2005-01-17      CAMERA  369694.07\n",
      "...      ...      ...        ...         ...        ...\n",
      "1495    1496      A67 2006-02-04  BUS TICKET  356872.73\n",
      "1496    1497      A68 2006-03-25  BUS TICKET  204971.10\n",
      "1497    1498      A69 2006-03-31  BUS TICKET   50449.44\n",
      "1498    1499      A70 2006-03-23  BUS TICKET   80593.94\n",
      "1499    1500      A71 2006-03-24  BUS TICKET  194447.62\n",
      "\n",
      "[1500 rows x 5 columns]\n"
     ]
    }
   ],
   "source": [
    "spend['Month']=spend['Month'].apply(lambda x:pd.to_datetime(x))\n",
    "print(spend)"
   ]
  },
  {
   "cell_type": "code",
   "execution_count": 5,
   "id": "92e54de2",
   "metadata": {},
   "outputs": [
    {
     "data": {
      "text/plain": [
       "No            int64\n",
       "Customer     object\n",
       "Age           int64\n",
       "City         object\n",
       "Product      object\n",
       "Limit       float64\n",
       "Company      object\n",
       "Segment      object\n",
       "dtype: object"
      ]
     },
     "execution_count": 5,
     "metadata": {},
     "output_type": "execute_result"
    }
   ],
   "source": [
    "customer_acq.dtypes"
   ]
  },
  {
   "cell_type": "code",
   "execution_count": 6,
   "id": "4c44995b",
   "metadata": {},
   "outputs": [
    {
     "data": {
      "text/plain": [
       "Sl No:        int64\n",
       "Customer     object\n",
       "Month        object\n",
       "Type         object\n",
       "Amount      float64\n",
       "dtype: object"
      ]
     },
     "execution_count": 6,
     "metadata": {},
     "output_type": "execute_result"
    }
   ],
   "source": [
    "spend.dtypes"
   ]
  },
  {
   "cell_type": "code",
   "execution_count": 7,
   "id": "98115d4b",
   "metadata": {},
   "outputs": [
    {
     "data": {
      "text/plain": [
       "SL No:        float64\n",
       "Customer       object\n",
       "Month          object\n",
       "Amount        float64\n",
       "Unnamed: 4    float64\n",
       "dtype: object"
      ]
     },
     "execution_count": 7,
     "metadata": {},
     "output_type": "execute_result"
    }
   ],
   "source": [
    "repayment.dtypes"
   ]
  },
  {
   "cell_type": "code",
   "execution_count": 8,
   "id": "3dacb74c",
   "metadata": {},
   "outputs": [
    {
     "data": {
      "text/html": [
       "<div>\n",
       "<style scoped>\n",
       "    .dataframe tbody tr th:only-of-type {\n",
       "        vertical-align: middle;\n",
       "    }\n",
       "\n",
       "    .dataframe tbody tr th {\n",
       "        vertical-align: top;\n",
       "    }\n",
       "\n",
       "    .dataframe thead th {\n",
       "        text-align: right;\n",
       "    }\n",
       "</style>\n",
       "<table border=\"1\" class=\"dataframe\">\n",
       "  <thead>\n",
       "    <tr style=\"text-align: right;\">\n",
       "      <th></th>\n",
       "      <th>No</th>\n",
       "      <th>Customer</th>\n",
       "      <th>Age</th>\n",
       "      <th>City</th>\n",
       "      <th>Product</th>\n",
       "      <th>Limit</th>\n",
       "      <th>Company</th>\n",
       "      <th>Segment</th>\n",
       "    </tr>\n",
       "  </thead>\n",
       "  <tbody>\n",
       "    <tr>\n",
       "      <th>0</th>\n",
       "      <td>1</td>\n",
       "      <td>A1</td>\n",
       "      <td>76</td>\n",
       "      <td>BANGALORE</td>\n",
       "      <td>Gold</td>\n",
       "      <td>500000.0</td>\n",
       "      <td>C1</td>\n",
       "      <td>Self Employed</td>\n",
       "    </tr>\n",
       "    <tr>\n",
       "      <th>1</th>\n",
       "      <td>2</td>\n",
       "      <td>A2</td>\n",
       "      <td>71</td>\n",
       "      <td>CALCUTTA</td>\n",
       "      <td>Silver</td>\n",
       "      <td>100000.0</td>\n",
       "      <td>C2</td>\n",
       "      <td>Salaried_MNC</td>\n",
       "    </tr>\n",
       "    <tr>\n",
       "      <th>2</th>\n",
       "      <td>3</td>\n",
       "      <td>A3</td>\n",
       "      <td>34</td>\n",
       "      <td>COCHIN</td>\n",
       "      <td>Platimum</td>\n",
       "      <td>10000.0</td>\n",
       "      <td>C3</td>\n",
       "      <td>Salaried_Pvt</td>\n",
       "    </tr>\n",
       "    <tr>\n",
       "      <th>3</th>\n",
       "      <td>4</td>\n",
       "      <td>A4</td>\n",
       "      <td>47</td>\n",
       "      <td>BOMBAY</td>\n",
       "      <td>Platimum</td>\n",
       "      <td>10001.0</td>\n",
       "      <td>C4</td>\n",
       "      <td>Govt</td>\n",
       "    </tr>\n",
       "    <tr>\n",
       "      <th>4</th>\n",
       "      <td>5</td>\n",
       "      <td>A5</td>\n",
       "      <td>56</td>\n",
       "      <td>BANGALORE</td>\n",
       "      <td>Platimum</td>\n",
       "      <td>10002.0</td>\n",
       "      <td>C5</td>\n",
       "      <td>Normal Salary</td>\n",
       "    </tr>\n",
       "  </tbody>\n",
       "</table>\n",
       "</div>"
      ],
      "text/plain": [
       "   No Customer  Age       City   Product     Limit Company        Segment\n",
       "0   1       A1   76  BANGALORE      Gold  500000.0      C1  Self Employed\n",
       "1   2       A2   71   CALCUTTA    Silver  100000.0      C2   Salaried_MNC\n",
       "2   3       A3   34     COCHIN  Platimum   10000.0      C3   Salaried_Pvt\n",
       "3   4       A4   47     BOMBAY  Platimum   10001.0      C4           Govt\n",
       "4   5       A5   56  BANGALORE  Platimum   10002.0      C5  Normal Salary"
      ]
     },
     "execution_count": 8,
     "metadata": {},
     "output_type": "execute_result"
    }
   ],
   "source": [
    "customer_acq.head()"
   ]
  },
  {
   "cell_type": "code",
   "execution_count": 9,
   "id": "25c78c66",
   "metadata": {},
   "outputs": [
    {
     "data": {
      "text/html": [
       "<div>\n",
       "<style scoped>\n",
       "    .dataframe tbody tr th:only-of-type {\n",
       "        vertical-align: middle;\n",
       "    }\n",
       "\n",
       "    .dataframe tbody tr th {\n",
       "        vertical-align: top;\n",
       "    }\n",
       "\n",
       "    .dataframe thead th {\n",
       "        text-align: right;\n",
       "    }\n",
       "</style>\n",
       "<table border=\"1\" class=\"dataframe\">\n",
       "  <thead>\n",
       "    <tr style=\"text-align: right;\">\n",
       "      <th></th>\n",
       "      <th>Sl No:</th>\n",
       "      <th>Customer</th>\n",
       "      <th>Month</th>\n",
       "      <th>Type</th>\n",
       "      <th>Amount</th>\n",
       "    </tr>\n",
       "  </thead>\n",
       "  <tbody>\n",
       "    <tr>\n",
       "      <th>0</th>\n",
       "      <td>1</td>\n",
       "      <td>A1</td>\n",
       "      <td>12-Jan-04</td>\n",
       "      <td>JEWELLERY</td>\n",
       "      <td>485470.80</td>\n",
       "    </tr>\n",
       "    <tr>\n",
       "      <th>1</th>\n",
       "      <td>2</td>\n",
       "      <td>A1</td>\n",
       "      <td>3-Jan-04</td>\n",
       "      <td>PETRO</td>\n",
       "      <td>410556.13</td>\n",
       "    </tr>\n",
       "    <tr>\n",
       "      <th>2</th>\n",
       "      <td>3</td>\n",
       "      <td>A1</td>\n",
       "      <td>15-Jan-04</td>\n",
       "      <td>CLOTHES</td>\n",
       "      <td>23740.46</td>\n",
       "    </tr>\n",
       "    <tr>\n",
       "      <th>3</th>\n",
       "      <td>4</td>\n",
       "      <td>A1</td>\n",
       "      <td>25-Jan-04</td>\n",
       "      <td>FOOD</td>\n",
       "      <td>484342.47</td>\n",
       "    </tr>\n",
       "    <tr>\n",
       "      <th>4</th>\n",
       "      <td>5</td>\n",
       "      <td>A1</td>\n",
       "      <td>17-Jan-05</td>\n",
       "      <td>CAMERA</td>\n",
       "      <td>369694.07</td>\n",
       "    </tr>\n",
       "  </tbody>\n",
       "</table>\n",
       "</div>"
      ],
      "text/plain": [
       "   Sl No: Customer      Month       Type     Amount\n",
       "0       1       A1  12-Jan-04  JEWELLERY  485470.80\n",
       "1       2       A1   3-Jan-04      PETRO  410556.13\n",
       "2       3       A1  15-Jan-04    CLOTHES   23740.46\n",
       "3       4       A1  25-Jan-04       FOOD  484342.47\n",
       "4       5       A1  17-Jan-05     CAMERA  369694.07"
      ]
     },
     "execution_count": 9,
     "metadata": {},
     "output_type": "execute_result"
    }
   ],
   "source": [
    "spend.head()"
   ]
  },
  {
   "cell_type": "code",
   "execution_count": 10,
   "id": "1b2acf58",
   "metadata": {},
   "outputs": [
    {
     "data": {
      "text/html": [
       "<div>\n",
       "<style scoped>\n",
       "    .dataframe tbody tr th:only-of-type {\n",
       "        vertical-align: middle;\n",
       "    }\n",
       "\n",
       "    .dataframe tbody tr th {\n",
       "        vertical-align: top;\n",
       "    }\n",
       "\n",
       "    .dataframe thead th {\n",
       "        text-align: right;\n",
       "    }\n",
       "</style>\n",
       "<table border=\"1\" class=\"dataframe\">\n",
       "  <thead>\n",
       "    <tr style=\"text-align: right;\">\n",
       "      <th></th>\n",
       "      <th>SL No:</th>\n",
       "      <th>Customer</th>\n",
       "      <th>Month</th>\n",
       "      <th>Amount</th>\n",
       "      <th>Unnamed: 4</th>\n",
       "    </tr>\n",
       "  </thead>\n",
       "  <tbody>\n",
       "    <tr>\n",
       "      <th>0</th>\n",
       "      <td>NaN</td>\n",
       "      <td>A1</td>\n",
       "      <td>12-Jan-04</td>\n",
       "      <td>495414.75</td>\n",
       "      <td>NaN</td>\n",
       "    </tr>\n",
       "    <tr>\n",
       "      <th>1</th>\n",
       "      <td>2.0</td>\n",
       "      <td>A1</td>\n",
       "      <td>3-Jan-04</td>\n",
       "      <td>245899.02</td>\n",
       "      <td>NaN</td>\n",
       "    </tr>\n",
       "    <tr>\n",
       "      <th>2</th>\n",
       "      <td>3.0</td>\n",
       "      <td>A1</td>\n",
       "      <td>15-Jan-04</td>\n",
       "      <td>259490.06</td>\n",
       "      <td>NaN</td>\n",
       "    </tr>\n",
       "    <tr>\n",
       "      <th>3</th>\n",
       "      <td>4.0</td>\n",
       "      <td>A1</td>\n",
       "      <td>25-Jan-04</td>\n",
       "      <td>437555.12</td>\n",
       "      <td>NaN</td>\n",
       "    </tr>\n",
       "    <tr>\n",
       "      <th>4</th>\n",
       "      <td>5.0</td>\n",
       "      <td>A1</td>\n",
       "      <td>17-Jan-05</td>\n",
       "      <td>165972.88</td>\n",
       "      <td>NaN</td>\n",
       "    </tr>\n",
       "  </tbody>\n",
       "</table>\n",
       "</div>"
      ],
      "text/plain": [
       "   SL No: Customer      Month     Amount  Unnamed: 4\n",
       "0     NaN       A1  12-Jan-04  495414.75         NaN\n",
       "1     2.0       A1   3-Jan-04  245899.02         NaN\n",
       "2     3.0       A1  15-Jan-04  259490.06         NaN\n",
       "3     4.0       A1  25-Jan-04  437555.12         NaN\n",
       "4     5.0       A1  17-Jan-05  165972.88         NaN"
      ]
     },
     "execution_count": 10,
     "metadata": {},
     "output_type": "execute_result"
    }
   ],
   "source": [
    "repayment.head()"
   ]
  },
  {
   "cell_type": "code",
   "execution_count": 11,
   "id": "93f4394c",
   "metadata": {},
   "outputs": [
    {
     "data": {
      "text/plain": [
       "No          0\n",
       "Customer    0\n",
       "Age         0\n",
       "City        0\n",
       "Product     0\n",
       "Limit       0\n",
       "Company     0\n",
       "Segment     0\n",
       "dtype: int64"
      ]
     },
     "execution_count": 11,
     "metadata": {},
     "output_type": "execute_result"
    }
   ],
   "source": [
    "customer_acq.isnull().sum()"
   ]
  },
  {
   "cell_type": "code",
   "execution_count": 12,
   "id": "22c9c8e5",
   "metadata": {},
   "outputs": [
    {
     "data": {
      "text/plain": [
       "Sl No:      0\n",
       "Customer    0\n",
       "Month       0\n",
       "Type        0\n",
       "Amount      0\n",
       "dtype: int64"
      ]
     },
     "execution_count": 12,
     "metadata": {},
     "output_type": "execute_result"
    }
   ],
   "source": [
    "spend.isnull().sum()"
   ]
  },
  {
   "cell_type": "code",
   "execution_count": 13,
   "id": "1cadbb92",
   "metadata": {},
   "outputs": [
    {
     "data": {
      "text/plain": [
       "SL No:          24\n",
       "Customer        23\n",
       "Month           23\n",
       "Amount          23\n",
       "Unnamed: 4    1523\n",
       "dtype: int64"
      ]
     },
     "execution_count": 13,
     "metadata": {},
     "output_type": "execute_result"
    }
   ],
   "source": [
    "repayment.isnull().sum()"
   ]
  },
  {
   "cell_type": "markdown",
   "id": "caac4121",
   "metadata": {},
   "source": [
    "## 1. In the above dataset,\n",
    "## a. In case age is less than 18, replace it with mean of age values."
   ]
  },
  {
   "cell_type": "code",
   "execution_count": 14,
   "id": "a700923a",
   "metadata": {},
   "outputs": [],
   "source": [
    "customer_acq.loc[customer_acq[\"Age\"] < 18,\"Age\"] = customer_acq[\"Age\"].mean()"
   ]
  },
  {
   "cell_type": "code",
   "execution_count": 15,
   "id": "7cb20910",
   "metadata": {},
   "outputs": [
    {
     "name": "stdout",
     "output_type": "stream",
     "text": [
      "     No Customer   Age        City   Product     Limit Company        Segment\n",
      "0     1       A1  76.0   BANGALORE      Gold  500000.0      C1  Self Employed\n",
      "1     2       A2  71.0    CALCUTTA    Silver  100000.0      C2   Salaried_MNC\n",
      "2     3       A3  34.0      COCHIN  Platimum   10000.0      C3   Salaried_Pvt\n",
      "3     4       A4  47.0      BOMBAY  Platimum   10001.0      C4           Govt\n",
      "4     5       A5  56.0   BANGALORE  Platimum   10002.0      C5  Normal Salary\n",
      "..  ...      ...   ...         ...       ...       ...     ...            ...\n",
      "95   96      A96  54.0     CHENNAI    Silver  100000.0     C19   Salaried_Pvt\n",
      "96   97      A97  58.0  TRIVANDRUM  Platimum   10000.0     C20           Govt\n",
      "97   98      A98  51.0    CALCUTTA  Platimum   10001.0     C21  Normal Salary\n",
      "98   99      A99  35.0    CALCUTTA  Platimum   10002.0     C22  Self Employed\n",
      "99  100     A100  36.0      COCHIN    Silver  100000.0      C5   Salaried_MNC\n",
      "\n",
      "[100 rows x 8 columns]\n"
     ]
    }
   ],
   "source": [
    "print(customer_acq)"
   ]
  },
  {
   "cell_type": "markdown",
   "id": "bc2ee820",
   "metadata": {},
   "source": [
    "### b. In case spend amount is more than the limit, replace it with 50% of that customer’s limit."
   ]
  },
  {
   "cell_type": "code",
   "execution_count": 39,
   "id": "ab6ce0fe",
   "metadata": {},
   "outputs": [
    {
     "name": "stdout",
     "output_type": "stream",
     "text": [
      "       No Customer   Age        City   Product     Limit Company  \\\n",
      "0       1       A1  76.0   BANGALORE      Gold  500000.0      C1   \n",
      "1       1       A1  76.0   BANGALORE      Gold  500000.0      C1   \n",
      "2       1       A1  76.0   BANGALORE      Gold  500000.0      C1   \n",
      "3       1       A1  76.0   BANGALORE      Gold  500000.0      C1   \n",
      "4       1       A1  76.0   BANGALORE      Gold  500000.0      C1   \n",
      "...   ...      ...   ...         ...       ...       ...     ...   \n",
      "1495   96      A96  54.0     CHENNAI    Silver  100000.0     C19   \n",
      "1496   97      A97  58.0  TRIVANDRUM  Platimum   10000.0     C20   \n",
      "1497   98      A98  51.0    CALCUTTA  Platimum   10001.0     C21   \n",
      "1498   99      A99  35.0    CALCUTTA  Platimum   10002.0     C22   \n",
      "1499  100     A100  36.0      COCHIN    Silver  100000.0      C5   \n",
      "\n",
      "            Segment  Sl No:      Month        Type     Amount  \n",
      "0     Self Employed       1 2004-01-12   JEWELLERY  485470.80  \n",
      "1     Self Employed       2 2004-01-03       PETRO  410556.13  \n",
      "2     Self Employed       3 2004-01-15     CLOTHES   23740.46  \n",
      "3     Self Employed       4 2004-01-25        FOOD  484342.47  \n",
      "4     Self Employed       5 2005-01-17      CAMERA  369694.07  \n",
      "...             ...     ...        ...         ...        ...  \n",
      "1495   Salaried_Pvt      98 2004-01-25        BIKE   54729.66  \n",
      "1496           Govt      99 2004-01-12        AUTO  139018.26  \n",
      "1497  Normal Salary     100 2004-01-03    SHOPPING  284521.06  \n",
      "1498  Self Employed     101 2004-01-15  AIR TICKET   90184.22  \n",
      "1499   Salaried_MNC     102 2004-01-25  BUS TICKET  224786.88  \n",
      "\n",
      "[1500 rows x 12 columns]\n"
     ]
    }
   ],
   "source": [
    "customer_spend = pd.merge(left=customer_acq,right=spend,on=\"Customer\",how=\"inner\")\n",
    "print(customer_spend)"
   ]
  },
  {
   "cell_type": "markdown",
   "id": "b69859f8",
   "metadata": {},
   "source": [
    "### c. Incase the repayment amount is more than the limit, replace the repayment with the limit."
   ]
  },
  {
   "cell_type": "code",
   "execution_count": 58,
   "id": "7ce68712",
   "metadata": {},
   "outputs": [
    {
     "name": "stdout",
     "output_type": "stream",
     "text": [
      "       No Customer   Age        City   Product     Limit Company  \\\n",
      "0       1       A1  76.0   BANGALORE      Gold  500000.0      C1   \n",
      "1       1       A1  76.0   BANGALORE      Gold  500000.0      C1   \n",
      "2       1       A1  76.0   BANGALORE      Gold  500000.0      C1   \n",
      "3       1       A1  76.0   BANGALORE      Gold  500000.0      C1   \n",
      "4       1       A1  76.0   BANGALORE      Gold  500000.0      C1   \n",
      "...   ...      ...   ...         ...       ...       ...     ...   \n",
      "1495   96      A96  54.0     CHENNAI    Silver  100000.0     C19   \n",
      "1496   97      A97  58.0  TRIVANDRUM  Platimum   10000.0     C20   \n",
      "1497   98      A98  51.0    CALCUTTA  Platimum   10001.0     C21   \n",
      "1498   99      A99  35.0    CALCUTTA  Platimum   10002.0     C22   \n",
      "1499  100     A100  36.0      COCHIN    Silver  100000.0      C5   \n",
      "\n",
      "            Segment  SL No:      Month     Amount  Unnamed: 4  \n",
      "0     Self Employed     NaN 2004-01-12  495414.75         NaN  \n",
      "1     Self Employed     2.0 2004-01-03  245899.02         NaN  \n",
      "2     Self Employed     3.0 2004-01-15  259490.06         NaN  \n",
      "3     Self Employed     4.0 2004-01-25  437555.12         NaN  \n",
      "4     Self Employed     5.0 2005-01-17  165972.88         NaN  \n",
      "...             ...     ...        ...        ...         ...  \n",
      "1495   Salaried_Pvt    98.0 2004-01-25  310992.30         NaN  \n",
      "1496           Govt    99.0 2004-01-12  121874.90         NaN  \n",
      "1497  Normal Salary   100.0 2004-01-03  337815.57         NaN  \n",
      "1498  Self Employed   101.0 2004-01-15   25682.73         NaN  \n",
      "1499   Salaried_MNC   102.0 2004-01-25   69551.19         NaN  \n",
      "\n",
      "[1500 rows x 12 columns]\n"
     ]
    }
   ],
   "source": [
    "customer_repayment=pd.merge(left=customer_acq,right=repayment,on='Customer')\n",
    "print(customer_repayment)"
   ]
  },
  {
   "cell_type": "code",
   "execution_count": 59,
   "id": "c5e3a2c9",
   "metadata": {},
   "outputs": [],
   "source": [
    "customer_repayment['Amount']=np.where(customer_repayment.Amount>customer_repayment.Limit,customer_repayment.Limit/2,customer_repayment.Amount)"
   ]
  },
  {
   "cell_type": "code",
   "execution_count": 60,
   "id": "d2c85841",
   "metadata": {},
   "outputs": [
    {
     "name": "stdout",
     "output_type": "stream",
     "text": [
      "       No Customer   Age        City   Product     Limit Company  \\\n",
      "0       1       A1  76.0   BANGALORE      Gold  500000.0      C1   \n",
      "1       1       A1  76.0   BANGALORE      Gold  500000.0      C1   \n",
      "2       1       A1  76.0   BANGALORE      Gold  500000.0      C1   \n",
      "3       1       A1  76.0   BANGALORE      Gold  500000.0      C1   \n",
      "4       1       A1  76.0   BANGALORE      Gold  500000.0      C1   \n",
      "...   ...      ...   ...         ...       ...       ...     ...   \n",
      "1495   96      A96  54.0     CHENNAI    Silver  100000.0     C19   \n",
      "1496   97      A97  58.0  TRIVANDRUM  Platimum   10000.0     C20   \n",
      "1497   98      A98  51.0    CALCUTTA  Platimum   10001.0     C21   \n",
      "1498   99      A99  35.0    CALCUTTA  Platimum   10002.0     C22   \n",
      "1499  100     A100  36.0      COCHIN    Silver  100000.0      C5   \n",
      "\n",
      "            Segment  Sl No:      Month        Type     Amount  \n",
      "0     Self Employed       1 2004-01-12   JEWELLERY  485470.80  \n",
      "1     Self Employed       2 2004-01-03       PETRO  410556.13  \n",
      "2     Self Employed       3 2004-01-15     CLOTHES   23740.46  \n",
      "3     Self Employed       4 2004-01-25        FOOD  484342.47  \n",
      "4     Self Employed       5 2005-01-17      CAMERA  369694.07  \n",
      "...             ...     ...        ...         ...        ...  \n",
      "1495   Salaried_Pvt      98 2004-01-25        BIKE   54729.66  \n",
      "1496           Govt      99 2004-01-12        AUTO    5000.00  \n",
      "1497  Normal Salary     100 2004-01-03    SHOPPING    5000.50  \n",
      "1498  Self Employed     101 2004-01-15  AIR TICKET    5001.00  \n",
      "1499   Salaried_MNC     102 2004-01-25  BUS TICKET   50000.00  \n",
      "\n",
      "[1500 rows x 12 columns]\n"
     ]
    }
   ],
   "source": [
    "print(customer_spend)"
   ]
  },
  {
   "cell_type": "markdown",
   "id": "ee5688ca",
   "metadata": {},
   "source": [
    "### 2. From the above dataset create the following summaries:"
   ]
  },
  {
   "cell_type": "markdown",
   "id": "cb50a3de",
   "metadata": {},
   "source": [
    "###  a. How many distinct customers exist?"
   ]
  },
  {
   "cell_type": "code",
   "execution_count": 45,
   "id": "70798e5f",
   "metadata": {},
   "outputs": [
    {
     "data": {
      "text/plain": [
       "100"
      ]
     },
     "execution_count": 45,
     "metadata": {},
     "output_type": "execute_result"
    }
   ],
   "source": [
    "customer_spend['Customer'].drop_duplicates().count()"
   ]
  },
  {
   "cell_type": "markdown",
   "id": "b81981e6",
   "metadata": {},
   "source": [
    "###  b. How many distinct categories exist?"
   ]
  },
  {
   "cell_type": "code",
   "execution_count": 46,
   "id": "145bd29b",
   "metadata": {},
   "outputs": [
    {
     "data": {
      "text/plain": [
       "100"
      ]
     },
     "execution_count": 46,
     "metadata": {},
     "output_type": "execute_result"
    }
   ],
   "source": [
    "customer_spend['Customer'].drop_duplicates().count()"
   ]
  },
  {
   "cell_type": "code",
   "execution_count": 62,
   "id": "47448859",
   "metadata": {},
   "outputs": [
    {
     "data": {
      "text/plain": [
       "0         Gold\n",
       "18      Silver\n",
       "29    Platimum\n",
       "Name: Product, dtype: object"
      ]
     },
     "execution_count": 62,
     "metadata": {},
     "output_type": "execute_result"
    }
   ],
   "source": [
    "customer_repayment['Product'].drop_duplicates()"
   ]
  },
  {
   "cell_type": "code",
   "execution_count": 48,
   "id": "7e973b6c",
   "metadata": {},
   "outputs": [
    {
     "data": {
      "text/plain": [
       "0         Gold\n",
       "18      Silver\n",
       "29    Platimum\n",
       "Name: Product, dtype: object"
      ]
     },
     "execution_count": 48,
     "metadata": {},
     "output_type": "execute_result"
    }
   ],
   "source": [
    "customer_spend['Product'].drop_duplicates()"
   ]
  },
  {
   "cell_type": "markdown",
   "id": "ab987006",
   "metadata": {},
   "source": [
    "###  c. What is the average monthly spend by customers?"
   ]
  },
  {
   "cell_type": "code",
   "execution_count": 27,
   "id": "8b184650",
   "metadata": {},
   "outputs": [
    {
     "name": "stdout",
     "output_type": "stream",
     "text": [
      "     Customer      Month     Amount\n",
      "0          A1   1-Feb-05   23370.20\n",
      "1          A1  12-Jan-04  463017.01\n",
      "2          A1  15-Jan-04   23740.46\n",
      "3          A1  17-Jan-05  369694.07\n",
      "4          A1  19-Apr-06  346925.68\n",
      "...       ...        ...        ...\n",
      "1252      A95  15-Jan-04  240401.50\n",
      "1253      A96  25-Jan-04   54729.66\n",
      "1254      A97  12-Jan-04    5000.00\n",
      "1255      A98   3-Jan-04    5000.50\n",
      "1256      A99  15-Jan-04    5001.00\n",
      "\n",
      "[1257 rows x 3 columns]\n"
     ]
    }
   ],
   "source": [
    "customer_spend_amount=customer_spend.groupby(['Customer','Month'])[['Amount']].mean().reset_index()\n",
    "print(customer_spend_amount)"
   ]
  },
  {
   "cell_type": "code",
   "execution_count": 56,
   "id": "3c567fe1",
   "metadata": {},
   "outputs": [
    {
     "name": "stdout",
     "output_type": "stream",
     "text": [
      "     Customer      Month     Amount  spend_month\n",
      "0          A1   1-Feb-05   23370.20            2\n",
      "1          A1  12-Jan-04  463017.01            1\n",
      "2          A1  15-Jan-04   23740.46            1\n",
      "3          A1  17-Jan-05  369694.07            1\n",
      "4          A1  19-Apr-06  346925.68            4\n",
      "...       ...        ...        ...          ...\n",
      "1252      A95  15-Jan-04  240401.50            1\n",
      "1253      A96  25-Jan-04   54729.66            1\n",
      "1254      A97  12-Jan-04    5000.00            1\n",
      "1255      A98   3-Jan-04    5000.50            1\n",
      "1256      A99  15-Jan-04    5001.00            1\n",
      "\n",
      "[1257 rows x 4 columns]\n"
     ]
    }
   ],
   "source": [
    "customer_spend_amount['spend_month'] = pd.DatetimeIndex(customer_spend_amount['Month']).month\n",
    "print(customer_spend_amount)"
   ]
  },
  {
   "cell_type": "code",
   "execution_count": 57,
   "id": "93c9d55e",
   "metadata": {},
   "outputs": [
    {
     "name": "stdout",
     "output_type": "stream",
     "text": [
      "    Customer  spend_month        Amount\n",
      "0         A1            1  341332.87700\n",
      "1         A1            2  138421.15125\n",
      "2         A1            4  261649.25000\n",
      "3         A1            5  361141.31000\n",
      "4         A1            8  344372.10000\n",
      "..       ...          ...           ...\n",
      "573      A95            1  240401.50000\n",
      "574      A96            1   54729.66000\n",
      "575      A97            1    5000.00000\n",
      "576      A98            1    5000.50000\n",
      "577      A99            1    5001.00000\n",
      "\n",
      "[578 rows x 3 columns]\n"
     ]
    }
   ],
   "source": [
    "monthly_spend=customer_spend_amount.groupby(['Customer','spend_month'])[['Amount']].mean().reset_index()\n",
    "print(monthly_spend)"
   ]
  },
  {
   "cell_type": "markdown",
   "id": "36a35c68",
   "metadata": {},
   "source": [
    "###   d. What is the average monthly repayment by customers?"
   ]
  },
  {
   "cell_type": "code",
   "execution_count": 64,
   "id": "23e976ed",
   "metadata": {},
   "outputs": [
    {
     "name": "stdout",
     "output_type": "stream",
     "text": [
      "     Customer      Month      Amount\n",
      "0          A1 2004-01-03  245899.020\n",
      "1          A1 2004-01-12  422930.785\n",
      "2          A1 2004-01-15  356258.850\n",
      "3          A1 2004-01-25  437555.120\n",
      "4          A1 2004-02-05  117964.430\n",
      "...       ...        ...         ...\n",
      "1276      A95 2004-01-15  369405.960\n",
      "1277      A96 2004-01-25   50000.000\n",
      "1278      A97 2004-01-12    5000.000\n",
      "1279      A98 2004-01-03    5000.500\n",
      "1280      A99 2004-01-15    5001.000\n",
      "\n",
      "[1281 rows x 3 columns]\n"
     ]
    }
   ],
   "source": [
    "customer_repay=customer_repayment.groupby(['Customer','Month'])[['Amount']].mean().reset_index()\n",
    "print(customer_repay)"
   ]
  },
  {
   "cell_type": "code",
   "execution_count": 65,
   "id": "e38b2a46",
   "metadata": {},
   "outputs": [
    {
     "name": "stdout",
     "output_type": "stream",
     "text": [
      "     Customer      Month     Amount  spend_month\n",
      "0          A1   1-Feb-05   23370.20            2\n",
      "1          A1  12-Jan-04  463017.01            1\n",
      "2          A1  15-Jan-04   23740.46            1\n",
      "3          A1  17-Jan-05  369694.07            1\n",
      "4          A1  19-Apr-06  346925.68            4\n",
      "...       ...        ...        ...          ...\n",
      "1252      A95  15-Jan-04  240401.50            1\n",
      "1253      A96  25-Jan-04   54729.66            1\n",
      "1254      A97  12-Jan-04    5000.00            1\n",
      "1255      A98   3-Jan-04    5000.50            1\n",
      "1256      A99  15-Jan-04    5001.00            1\n",
      "\n",
      "[1257 rows x 4 columns]\n"
     ]
    }
   ],
   "source": [
    "customer_repay['repay_month'] = pd.DatetimeIndex(customer_repay['Month']).month\n",
    "print(customer_spend_amount)"
   ]
  },
  {
   "cell_type": "code",
   "execution_count": 66,
   "id": "efd1867f",
   "metadata": {},
   "outputs": [
    {
     "name": "stdout",
     "output_type": "stream",
     "text": [
      "    Customer  repay_month      Amount\n",
      "0         A1            1  325723.331\n",
      "1         A1            2  137713.785\n",
      "2         A1            4  254474.580\n",
      "3         A1            7  297176.740\n",
      "4         A1            9  186427.500\n",
      "..       ...          ...         ...\n",
      "553      A95            1  369405.960\n",
      "554      A96            1   50000.000\n",
      "555      A97            1    5000.000\n",
      "556      A98            1    5000.500\n",
      "557      A99            1    5001.000\n",
      "\n",
      "[558 rows x 3 columns]\n"
     ]
    }
   ],
   "source": [
    "monthly_repay=customer_repay.groupby(['Customer','repay_month'])[['Amount']].mean().reset_index()\n",
    "print(monthly_repay)"
   ]
  },
  {
   "cell_type": "markdown",
   "id": "baf4ad01",
   "metadata": {},
   "source": [
    "###   e. If the monthly rate of interest is 2.9%, what is the profit for the bank for each month?"
   ]
  },
  {
   "cell_type": "code",
   "execution_count": 70,
   "id": "b9641494",
   "metadata": {},
   "outputs": [
    {
     "name": "stdout",
     "output_type": "stream",
     "text": [
      "    Customer  spend_month      Amount_x  repay_month       Amount_y\n",
      "0         A1            1  341332.87700            1  325723.331000\n",
      "1         A1            2  138421.15125            2  137713.785000\n",
      "2         A1            4  261649.25000            4  254474.580000\n",
      "3         A1           11  183839.61000           11  285729.090000\n",
      "4        A10            1  173828.28250            1  283324.721667\n",
      "..       ...          ...           ...          ...            ...\n",
      "449      A95            1  240401.50000            1  369405.960000\n",
      "450      A96            1   54729.66000            1   50000.000000\n",
      "451      A97            1    5000.00000            1    5000.000000\n",
      "452      A98            1    5000.50000            1    5000.500000\n",
      "453      A99            1    5001.00000            1    5001.000000\n",
      "\n",
      "[454 rows x 5 columns]\n"
     ]
    }
   ],
   "source": [
    "monthly_customer=pd.merge(left=monthly_spend,right=monthly_repay,left_on=['Customer','spend_month'],right_on=['Customer','repay_month'])\n",
    "print(monthly_customer)"
   ]
  },
  {
   "cell_type": "code",
   "execution_count": 72,
   "id": "8e281e94",
   "metadata": {},
   "outputs": [],
   "source": [
    "monthly_customer['Monthly_Profit']=monthly_customers.Amount_y-monthly_customers.Amount_x"
   ]
  },
  {
   "cell_type": "code",
   "execution_count": 73,
   "id": "278dcb4e",
   "metadata": {},
   "outputs": [
    {
     "name": "stdout",
     "output_type": "stream",
     "text": [
      "    Customer  spend_month      Amount_x  repay_month       Amount_y  \\\n",
      "0         A1            1  341332.87700            1  325723.331000   \n",
      "1         A1            2  138421.15125            2  137713.785000   \n",
      "2         A1            4  261649.25000            4  254474.580000   \n",
      "3         A1           11  183839.61000           11  285729.090000   \n",
      "4        A10            1  173828.28250            1  283324.721667   \n",
      "..       ...          ...           ...          ...            ...   \n",
      "449      A95            1  240401.50000            1  369405.960000   \n",
      "450      A96            1   54729.66000            1   50000.000000   \n",
      "451      A97            1    5000.00000            1    5000.000000   \n",
      "452      A98            1    5000.50000            1    5000.500000   \n",
      "453      A99            1    5001.00000            1    5001.000000   \n",
      "\n",
      "     Monthly_Profit  \n",
      "0     -15609.546000  \n",
      "1       -707.366250  \n",
      "2      -7174.670000  \n",
      "3     101889.480000  \n",
      "4     109496.439167  \n",
      "..              ...  \n",
      "449   129004.460000  \n",
      "450    -4729.660000  \n",
      "451        0.000000  \n",
      "452        0.000000  \n",
      "453        0.000000  \n",
      "\n",
      "[454 rows x 6 columns]\n"
     ]
    }
   ],
   "source": [
    "monthly_customer['Profit']=np.where(monthly_customers['Monthly_Profit']>0,monthly_customers['Monthly_Profit']*2.9/100,np.nan)\n",
    "print(monthly_customers)"
   ]
  },
  {
   "cell_type": "markdown",
   "id": "2087c8db",
   "metadata": {},
   "source": [
    "### f. What are the top 5 product types?"
   ]
  },
  {
   "cell_type": "code",
   "execution_count": 74,
   "id": "7a9d7c7a",
   "metadata": {},
   "outputs": [
    {
     "data": {
      "text/html": [
       "<div>\n",
       "<style scoped>\n",
       "    .dataframe tbody tr th:only-of-type {\n",
       "        vertical-align: middle;\n",
       "    }\n",
       "\n",
       "    .dataframe tbody tr th {\n",
       "        vertical-align: top;\n",
       "    }\n",
       "\n",
       "    .dataframe thead th {\n",
       "        text-align: right;\n",
       "    }\n",
       "</style>\n",
       "<table border=\"1\" class=\"dataframe\">\n",
       "  <thead>\n",
       "    <tr style=\"text-align: right;\">\n",
       "      <th></th>\n",
       "      <th>Type</th>\n",
       "      <th>Amount</th>\n",
       "    </tr>\n",
       "  </thead>\n",
       "  <tbody>\n",
       "    <tr>\n",
       "      <th>10</th>\n",
       "      <td>PETRO</td>\n",
       "      <td>28597384.98</td>\n",
       "    </tr>\n",
       "    <tr>\n",
       "      <th>4</th>\n",
       "      <td>CAMERA</td>\n",
       "      <td>27690738.44</td>\n",
       "    </tr>\n",
       "    <tr>\n",
       "      <th>7</th>\n",
       "      <td>FOOD</td>\n",
       "      <td>20519243.60</td>\n",
       "    </tr>\n",
       "    <tr>\n",
       "      <th>0</th>\n",
       "      <td>AIR TICKET</td>\n",
       "      <td>20155847.12</td>\n",
       "    </tr>\n",
       "    <tr>\n",
       "      <th>14</th>\n",
       "      <td>TRAIN TICKET</td>\n",
       "      <td>19995825.72</td>\n",
       "    </tr>\n",
       "    <tr>\n",
       "      <th>13</th>\n",
       "      <td>SHOPPING</td>\n",
       "      <td>17106660.97</td>\n",
       "    </tr>\n",
       "    <tr>\n",
       "      <th>3</th>\n",
       "      <td>BUS TICKET</td>\n",
       "      <td>16279935.35</td>\n",
       "    </tr>\n",
       "    <tr>\n",
       "      <th>9</th>\n",
       "      <td>MOVIE TICKET</td>\n",
       "      <td>13001899.29</td>\n",
       "    </tr>\n",
       "    <tr>\n",
       "      <th>6</th>\n",
       "      <td>CLOTHES</td>\n",
       "      <td>12302511.36</td>\n",
       "    </tr>\n",
       "    <tr>\n",
       "      <th>11</th>\n",
       "      <td>RENTAL</td>\n",
       "      <td>11850628.72</td>\n",
       "    </tr>\n",
       "    <tr>\n",
       "      <th>8</th>\n",
       "      <td>JEWELLERY</td>\n",
       "      <td>11507786.00</td>\n",
       "    </tr>\n",
       "    <tr>\n",
       "      <th>2</th>\n",
       "      <td>BIKE</td>\n",
       "      <td>7009789.53</td>\n",
       "    </tr>\n",
       "    <tr>\n",
       "      <th>5</th>\n",
       "      <td>CAR</td>\n",
       "      <td>5107867.45</td>\n",
       "    </tr>\n",
       "    <tr>\n",
       "      <th>1</th>\n",
       "      <td>AUTO</td>\n",
       "      <td>4806060.41</td>\n",
       "    </tr>\n",
       "    <tr>\n",
       "      <th>12</th>\n",
       "      <td>SANDALS</td>\n",
       "      <td>3848906.29</td>\n",
       "    </tr>\n",
       "  </tbody>\n",
       "</table>\n",
       "</div>"
      ],
      "text/plain": [
       "            Type       Amount\n",
       "10         PETRO  28597384.98\n",
       "4         CAMERA  27690738.44\n",
       "7           FOOD  20519243.60\n",
       "0     AIR TICKET  20155847.12\n",
       "14  TRAIN TICKET  19995825.72\n",
       "13      SHOPPING  17106660.97\n",
       "3     BUS TICKET  16279935.35\n",
       "9   MOVIE TICKET  13001899.29\n",
       "6        CLOTHES  12302511.36\n",
       "11        RENTAL  11850628.72\n",
       "8      JEWELLERY  11507786.00\n",
       "2           BIKE   7009789.53\n",
       "5            CAR   5107867.45\n",
       "1           AUTO   4806060.41\n",
       "12       SANDALS   3848906.29"
      ]
     },
     "execution_count": 74,
     "metadata": {},
     "output_type": "execute_result"
    }
   ],
   "source": [
    "customer_spend.groupby('Type').Amount.sum().reset_index().sort_values('Amount',ascending=False)"
   ]
  },
  {
   "cell_type": "markdown",
   "id": "a45045d3",
   "metadata": {},
   "source": [
    "###  g. Which city is having maximum spend?"
   ]
  },
  {
   "cell_type": "code",
   "execution_count": 75,
   "id": "c0b16300",
   "metadata": {},
   "outputs": [
    {
     "data": {
      "text/html": [
       "<div>\n",
       "<style scoped>\n",
       "    .dataframe tbody tr th:only-of-type {\n",
       "        vertical-align: middle;\n",
       "    }\n",
       "\n",
       "    .dataframe tbody tr th {\n",
       "        vertical-align: top;\n",
       "    }\n",
       "\n",
       "    .dataframe thead th {\n",
       "        text-align: right;\n",
       "    }\n",
       "</style>\n",
       "<table border=\"1\" class=\"dataframe\">\n",
       "  <thead>\n",
       "    <tr style=\"text-align: right;\">\n",
       "      <th></th>\n",
       "      <th>City</th>\n",
       "      <th>Amount</th>\n",
       "    </tr>\n",
       "  </thead>\n",
       "  <tbody>\n",
       "    <tr>\n",
       "      <th>4</th>\n",
       "      <td>COCHIN</td>\n",
       "      <td>45963513.50</td>\n",
       "    </tr>\n",
       "    <tr>\n",
       "      <th>2</th>\n",
       "      <td>CALCUTTA</td>\n",
       "      <td>41108132.30</td>\n",
       "    </tr>\n",
       "    <tr>\n",
       "      <th>0</th>\n",
       "      <td>BANGALORE</td>\n",
       "      <td>40461647.02</td>\n",
       "    </tr>\n",
       "    <tr>\n",
       "      <th>1</th>\n",
       "      <td>BOMBAY</td>\n",
       "      <td>28603127.38</td>\n",
       "    </tr>\n",
       "    <tr>\n",
       "      <th>3</th>\n",
       "      <td>CHENNAI</td>\n",
       "      <td>22128635.65</td>\n",
       "    </tr>\n",
       "    <tr>\n",
       "      <th>7</th>\n",
       "      <td>TRIVANDRUM</td>\n",
       "      <td>15337155.87</td>\n",
       "    </tr>\n",
       "    <tr>\n",
       "      <th>6</th>\n",
       "      <td>PATNA</td>\n",
       "      <td>15260586.97</td>\n",
       "    </tr>\n",
       "    <tr>\n",
       "      <th>5</th>\n",
       "      <td>DELHI</td>\n",
       "      <td>10918286.54</td>\n",
       "    </tr>\n",
       "  </tbody>\n",
       "</table>\n",
       "</div>"
      ],
      "text/plain": [
       "         City       Amount\n",
       "4      COCHIN  45963513.50\n",
       "2    CALCUTTA  41108132.30\n",
       "0   BANGALORE  40461647.02\n",
       "1      BOMBAY  28603127.38\n",
       "3     CHENNAI  22128635.65\n",
       "7  TRIVANDRUM  15337155.87\n",
       "6       PATNA  15260586.97\n",
       "5       DELHI  10918286.54"
      ]
     },
     "execution_count": 75,
     "metadata": {},
     "output_type": "execute_result"
    }
   ],
   "source": [
    "customer_spend.groupby('City').Amount.sum().reset_index().sort_values('Amount',ascending=False)"
   ]
  },
  {
   "cell_type": "markdown",
   "id": "51bfde19",
   "metadata": {},
   "source": [
    "###  h. Which age group is spending more money?"
   ]
  },
  {
   "cell_type": "code",
   "execution_count": 78,
   "id": "0bebb2ec",
   "metadata": {},
   "outputs": [
    {
     "name": "stdout",
     "output_type": "stream",
     "text": [
      "       No Customer   Age        City   Product     Limit Company  \\\n",
      "0       1       A1  76.0   BANGALORE      Gold  500000.0      C1   \n",
      "1       1       A1  76.0   BANGALORE      Gold  500000.0      C1   \n",
      "2       1       A1  76.0   BANGALORE      Gold  500000.0      C1   \n",
      "3       1       A1  76.0   BANGALORE      Gold  500000.0      C1   \n",
      "4       1       A1  76.0   BANGALORE      Gold  500000.0      C1   \n",
      "...   ...      ...   ...         ...       ...       ...     ...   \n",
      "1495   96      A96  54.0     CHENNAI    Silver  100000.0     C19   \n",
      "1496   97      A97  58.0  TRIVANDRUM  Platimum   10000.0     C20   \n",
      "1497   98      A98  51.0    CALCUTTA  Platimum   10001.0     C21   \n",
      "1498   99      A99  35.0    CALCUTTA  Platimum   10002.0     C22   \n",
      "1499  100     A100  36.0      COCHIN    Silver  100000.0      C5   \n",
      "\n",
      "            Segment  Sl No:      Month        Type     Amount Age_Group  \n",
      "0     Self Employed       1 2004-01-12   JEWELLERY  485470.80    Senior  \n",
      "1     Self Employed       2 2004-01-03       PETRO  410556.13    Senior  \n",
      "2     Self Employed       3 2004-01-15     CLOTHES   23740.46    Senior  \n",
      "3     Self Employed       4 2004-01-25        FOOD  484342.47    Senior  \n",
      "4     Self Employed       5 2005-01-17      CAMERA  369694.07    Senior  \n",
      "...             ...     ...        ...         ...        ...       ...  \n",
      "1495   Salaried_Pvt      98 2004-01-25        BIKE   54729.66     Adult  \n",
      "1496           Govt      99 2004-01-12        AUTO    5000.00     Adult  \n",
      "1497  Normal Salary     100 2004-01-03    SHOPPING    5000.50     Adult  \n",
      "1498  Self Employed     101 2004-01-15  AIR TICKET    5001.00     Adult  \n",
      "1499   Salaried_MNC     102 2004-01-25  BUS TICKET   50000.00     Adult  \n",
      "\n",
      "[1500 rows x 13 columns]\n"
     ]
    }
   ],
   "source": [
    "customer_spend['Age_Group']=np.where(((customer_spend.Age.astype(int) >= 18) & (customer_spend.Age.astype(int) < 25)), 'Youth',np.where(((customer_spend.Age.astype(int) >= 25) & (customer_spend.Age.astype(int) < 65)), 'Adult','Senior'))\n",
    "print(customer_spend)"
   ]
  },
  {
   "cell_type": "code",
   "execution_count": 79,
   "id": "230fedc5",
   "metadata": {},
   "outputs": [
    {
     "data": {
      "text/plain": [
       "Age_Group\n",
       "Adult     1.674181e+08\n",
       "Senior    3.768249e+07\n",
       "Youth     1.468050e+07\n",
       "Name: Amount, dtype: float64"
      ]
     },
     "execution_count": 79,
     "metadata": {},
     "output_type": "execute_result"
    }
   ],
   "source": [
    "customer_spend.groupby('Age_Group').Amount.sum()"
   ]
  },
  {
   "cell_type": "markdown",
   "id": "8bb986a6",
   "metadata": {},
   "source": [
    "### i. Who are the top 10 customers in terms of repayment?"
   ]
  },
  {
   "cell_type": "code",
   "execution_count": 80,
   "id": "c2b6bfea",
   "metadata": {},
   "outputs": [
    {
     "data": {
      "text/html": [
       "<div>\n",
       "<style scoped>\n",
       "    .dataframe tbody tr th:only-of-type {\n",
       "        vertical-align: middle;\n",
       "    }\n",
       "\n",
       "    .dataframe tbody tr th {\n",
       "        vertical-align: top;\n",
       "    }\n",
       "\n",
       "    .dataframe thead th {\n",
       "        text-align: right;\n",
       "    }\n",
       "</style>\n",
       "<table border=\"1\" class=\"dataframe\">\n",
       "  <thead>\n",
       "    <tr style=\"text-align: right;\">\n",
       "      <th></th>\n",
       "      <th>Customer</th>\n",
       "      <th>Amount</th>\n",
       "    </tr>\n",
       "  </thead>\n",
       "  <tbody>\n",
       "    <tr>\n",
       "      <th>58</th>\n",
       "      <td>A61</td>\n",
       "      <td>10539142.91</td>\n",
       "    </tr>\n",
       "    <tr>\n",
       "      <th>57</th>\n",
       "      <td>A60</td>\n",
       "      <td>9876290.74</td>\n",
       "    </tr>\n",
       "    <tr>\n",
       "      <th>5</th>\n",
       "      <td>A13</td>\n",
       "      <td>9572000.66</td>\n",
       "    </tr>\n",
       "    <tr>\n",
       "      <th>38</th>\n",
       "      <td>A43</td>\n",
       "      <td>8489871.46</td>\n",
       "    </tr>\n",
       "    <tr>\n",
       "      <th>40</th>\n",
       "      <td>A45</td>\n",
       "      <td>8448334.87</td>\n",
       "    </tr>\n",
       "    <tr>\n",
       "      <th>4</th>\n",
       "      <td>A12</td>\n",
       "      <td>8334760.16</td>\n",
       "    </tr>\n",
       "    <tr>\n",
       "      <th>6</th>\n",
       "      <td>A14</td>\n",
       "      <td>7943268.63</td>\n",
       "    </tr>\n",
       "    <tr>\n",
       "      <th>39</th>\n",
       "      <td>A44</td>\n",
       "      <td>7744730.12</td>\n",
       "    </tr>\n",
       "    <tr>\n",
       "      <th>33</th>\n",
       "      <td>A39</td>\n",
       "      <td>7622483.30</td>\n",
       "    </tr>\n",
       "    <tr>\n",
       "      <th>37</th>\n",
       "      <td>A42</td>\n",
       "      <td>7615460.86</td>\n",
       "    </tr>\n",
       "  </tbody>\n",
       "</table>\n",
       "</div>"
      ],
      "text/plain": [
       "   Customer       Amount\n",
       "58      A61  10539142.91\n",
       "57      A60   9876290.74\n",
       "5       A13   9572000.66\n",
       "38      A43   8489871.46\n",
       "40      A45   8448334.87\n",
       "4       A12   8334760.16\n",
       "6       A14   7943268.63\n",
       "39      A44   7744730.12\n",
       "33      A39   7622483.30\n",
       "37      A42   7615460.86"
      ]
     },
     "execution_count": 80,
     "metadata": {},
     "output_type": "execute_result"
    }
   ],
   "source": [
    "customer_repayment.groupby('Customer').Amount.sum().reset_index().sort_values('Amount',ascending=False).head(10)"
   ]
  },
  {
   "cell_type": "markdown",
   "id": "938a3f7e",
   "metadata": {},
   "source": [
    "### 3. Calculate the city wise spend on each product on yearly basis. Also include a graphical representation for the same."
   ]
  },
  {
   "cell_type": "code",
   "execution_count": 83,
   "id": "1ce82107",
   "metadata": {},
   "outputs": [
    {
     "name": "stdout",
     "output_type": "stream",
     "text": [
      "       No Customer   Age        City   Product     Limit Company  \\\n",
      "0       1       A1  76.0   BANGALORE      Gold  500000.0      C1   \n",
      "1       1       A1  76.0   BANGALORE      Gold  500000.0      C1   \n",
      "2       1       A1  76.0   BANGALORE      Gold  500000.0      C1   \n",
      "3       1       A1  76.0   BANGALORE      Gold  500000.0      C1   \n",
      "4       1       A1  76.0   BANGALORE      Gold  500000.0      C1   \n",
      "...   ...      ...   ...         ...       ...       ...     ...   \n",
      "1495   96      A96  54.0     CHENNAI    Silver  100000.0     C19   \n",
      "1496   97      A97  58.0  TRIVANDRUM  Platimum   10000.0     C20   \n",
      "1497   98      A98  51.0    CALCUTTA  Platimum   10001.0     C21   \n",
      "1498   99      A99  35.0    CALCUTTA  Platimum   10002.0     C22   \n",
      "1499  100     A100  36.0      COCHIN    Silver  100000.0      C5   \n",
      "\n",
      "            Segment  Sl No:      Month        Type     Amount Age_Group  \\\n",
      "0     Self Employed       1 2004-01-12   JEWELLERY  485470.80    Senior   \n",
      "1     Self Employed       2 2004-01-03       PETRO  410556.13    Senior   \n",
      "2     Self Employed       3 2004-01-15     CLOTHES   23740.46    Senior   \n",
      "3     Self Employed       4 2004-01-25        FOOD  484342.47    Senior   \n",
      "4     Self Employed       5 2005-01-17      CAMERA  369694.07    Senior   \n",
      "...             ...     ...        ...         ...        ...       ...   \n",
      "1495   Salaried_Pvt      98 2004-01-25        BIKE   54729.66     Adult   \n",
      "1496           Govt      99 2004-01-12        AUTO    5000.00     Adult   \n",
      "1497  Normal Salary     100 2004-01-03    SHOPPING    5000.50     Adult   \n",
      "1498  Self Employed     101 2004-01-15  AIR TICKET    5001.00     Adult   \n",
      "1499   Salaried_MNC     102 2004-01-25  BUS TICKET   50000.00     Adult   \n",
      "\n",
      "      yearly_spend  \n",
      "0             2004  \n",
      "1             2004  \n",
      "2             2004  \n",
      "3             2004  \n",
      "4             2005  \n",
      "...            ...  \n",
      "1495          2004  \n",
      "1496          2004  \n",
      "1497          2004  \n",
      "1498          2004  \n",
      "1499          2004  \n",
      "\n",
      "[1500 rows x 14 columns]\n"
     ]
    }
   ],
   "source": [
    "customer_spend['yearly_spend']=customer_spend['Month'].apply(lambda x:x.year)\n",
    "print(customer_spend)"
   ]
  },
  {
   "cell_type": "code",
   "execution_count": 85,
   "id": "3a07b0ea",
   "metadata": {},
   "outputs": [],
   "source": [
    "citywise_spend = pd.pivot_table(data = customer_spend,index = 'City',columns=['Product','yearly_spend'],values='Amount', aggfunc='sum')"
   ]
  },
  {
   "cell_type": "code",
   "execution_count": 86,
   "id": "82d6a986",
   "metadata": {},
   "outputs": [
    {
     "name": "stdout",
     "output_type": "stream",
     "text": [
      "Product             Gold                              Platimum              \\\n",
      "yearly_spend        2004         2005         2006        2004        2005   \n",
      "City                                                                         \n",
      "BANGALORE     9289878.54  12892362.99  12030611.09  1112732.30   912284.97   \n",
      "BOMBAY        6987853.53   8983018.28   7917144.31   897264.94   711804.94   \n",
      "CALCUTTA      7477140.98  10303355.80  11167532.77  2037690.30  4434696.31   \n",
      "CHENNAI       1059618.50   3740945.58   2704288.62  3535652.38  5053956.32   \n",
      "COCHIN        7315850.15  12110613.03  10499142.38  3419904.07  4960921.71   \n",
      "DELHI         2806495.00   1964845.27   2957103.32   283512.89   494157.86   \n",
      "PATNA         2072567.90   3252615.77   2276181.69  1113069.60  2883231.07   \n",
      "TRIVANDRUM    2415102.84   1240375.85   2735710.87  2161676.67  3601443.30   \n",
      "\n",
      "Product                       Silver                         \n",
      "yearly_spend        2006        2004       2005        2006  \n",
      "City                                                         \n",
      "BANGALORE      685831.27  1291852.58  830612.34  1415480.94  \n",
      "BOMBAY         972130.01   532089.03  508988.54  1092833.80  \n",
      "CALCUTTA      3589606.66   500006.00  440147.06  1157956.42  \n",
      "CHENNAI       5024923.40   282056.86  377184.49   350009.50  \n",
      "COCHIN        4920592.29   814229.62  652269.38  1269990.87  \n",
      "DELHI          176788.72   768172.30  612311.21   854899.97  \n",
      "PATNA         1256137.65   756684.10  950094.19   700005.00  \n",
      "TRIVANDRUM    2147403.75   209667.48  269912.99   555862.12  \n"
     ]
    }
   ],
   "source": [
    "print(citywise_spend)"
   ]
  },
  {
   "cell_type": "code",
   "execution_count": 90,
   "id": "e0d92deb",
   "metadata": {},
   "outputs": [
    {
     "data": {
      "image/png": "[encoded data removed]",
      "text/plain": [
       "<Figure size 432x288 with 1 Axes>"
      ]
     },
     "metadata": {},
     "output_type": "display_data"
    }
   ],
   "source": [
    "citywise_spend.plot(kind='bar')\n",
    "plt.show()"
   ]
  },
  {
   "cell_type": "markdown",
   "id": "0421b875",
   "metadata": {},
   "source": [
    "### 4. Create graphs for a. Monthly comparison of total spends, city wise\n",
    "  \n",
    " "
   ]
  },
  {
   "cell_type": "code",
   "execution_count": 92,
   "id": "7cff928e",
   "metadata": {},
   "outputs": [
    {
     "name": "stdout",
     "output_type": "stream",
     "text": [
      "       No Customer   Age        City   Product     Limit Company  \\\n",
      "0       1       A1  76.0   BANGALORE      Gold  500000.0      C1   \n",
      "1       1       A1  76.0   BANGALORE      Gold  500000.0      C1   \n",
      "2       1       A1  76.0   BANGALORE      Gold  500000.0      C1   \n",
      "3       1       A1  76.0   BANGALORE      Gold  500000.0      C1   \n",
      "4       1       A1  76.0   BANGALORE      Gold  500000.0      C1   \n",
      "...   ...      ...   ...         ...       ...       ...     ...   \n",
      "1495   96      A96  54.0     CHENNAI    Silver  100000.0     C19   \n",
      "1496   97      A97  58.0  TRIVANDRUM  Platimum   10000.0     C20   \n",
      "1497   98      A98  51.0    CALCUTTA  Platimum   10001.0     C21   \n",
      "1498   99      A99  35.0    CALCUTTA  Platimum   10002.0     C22   \n",
      "1499  100     A100  36.0      COCHIN    Silver  100000.0      C5   \n",
      "\n",
      "            Segment  Sl No:      Month        Type     Amount Age_Group  \\\n",
      "0     Self Employed       1 2004-01-12   JEWELLERY  485470.80    Senior   \n",
      "1     Self Employed       2 2004-01-03       PETRO  410556.13    Senior   \n",
      "2     Self Employed       3 2004-01-15     CLOTHES   23740.46    Senior   \n",
      "3     Self Employed       4 2004-01-25        FOOD  484342.47    Senior   \n",
      "4     Self Employed       5 2005-01-17      CAMERA  369694.07    Senior   \n",
      "...             ...     ...        ...         ...        ...       ...   \n",
      "1495   Salaried_Pvt      98 2004-01-25        BIKE   54729.66     Adult   \n",
      "1496           Govt      99 2004-01-12        AUTO    5000.00     Adult   \n",
      "1497  Normal Salary     100 2004-01-03    SHOPPING    5000.50     Adult   \n",
      "1498  Self Employed     101 2004-01-15  AIR TICKET    5001.00     Adult   \n",
      "1499   Salaried_MNC     102 2004-01-25  BUS TICKET   50000.00     Adult   \n",
      "\n",
      "      yearly_spend  monthly_spend  \n",
      "0             2004              1  \n",
      "1             2004              1  \n",
      "2             2004              1  \n",
      "3             2004              1  \n",
      "4             2005              1  \n",
      "...            ...            ...  \n",
      "1495          2004              1  \n",
      "1496          2004              1  \n",
      "1497          2004              1  \n",
      "1498          2004              1  \n",
      "1499          2004              1  \n",
      "\n",
      "[1500 rows x 15 columns]\n"
     ]
    }
   ],
   "source": [
    "customer_spend['monthly_spend']=customer_spend.Month.apply(lambda x:x.month)\n",
    "print(customer_spend)"
   ]
  },
  {
   "cell_type": "code",
   "execution_count": 94,
   "id": "0d4ca021",
   "metadata": {},
   "outputs": [
    {
     "name": "stdout",
     "output_type": "stream",
     "text": [
      "      Sl No: Customer      Month        Type     Amount\n",
      "0          1       A1 2004-01-12   JEWELLERY  485470.80\n",
      "1          2       A1 2004-01-03       PETRO  410556.13\n",
      "2          3       A1 2004-01-15     CLOTHES   23740.46\n",
      "3          4       A1 2004-01-25        FOOD  484342.47\n",
      "4          5       A1 2005-01-17      CAMERA  369694.07\n",
      "...      ...      ...        ...         ...        ...\n",
      "1495    1496      A67 2006-02-04  BUS TICKET  356872.73\n",
      "1496    1497      A68 2006-03-25  BUS TICKET  204971.10\n",
      "1497    1498      A69 2006-03-31  BUS TICKET   50449.44\n",
      "1498    1499      A70 2006-03-23  BUS TICKET   80593.94\n",
      "1499    1500      A71 2006-03-24  BUS TICKET  194447.62\n",
      "\n",
      "[1500 rows x 5 columns]\n"
     ]
    }
   ],
   "source": [
    "spend1=pd.pivot_table(data = customer_spend,index = 'City',columns='monthly_spend',values='Amount', aggfunc='sum')\n",
    "print(spend)"
   ]
  },
  {
   "cell_type": "code",
   "execution_count": 95,
   "id": "28962660",
   "metadata": {},
   "outputs": [
    {
     "data": {
      "image/png": "[encoded data removed]",
      "text/plain": [
       "<Figure size 432x288 with 1 Axes>"
      ]
     },
     "metadata": {},
     "output_type": "display_data"
    }
   ],
   "source": [
    "spend1.plot(kind='bar')\n",
    "plt.show()"
   ]
  },
  {
   "cell_type": "markdown",
   "id": "708cddc4",
   "metadata": {},
   "source": [
    "### b. Comparison of yearly spend on air tickets"
   ]
  },
  {
   "cell_type": "code",
   "execution_count": 97,
   "id": "b9aa0003",
   "metadata": {},
   "outputs": [
    {
     "name": "stdout",
     "output_type": "stream",
     "text": [
      "yearly_spend        2004         2005        2006\n",
      "Type                                             \n",
      "AIR TICKET    4357225.35  10550152.21  5248469.56\n"
     ]
    }
   ],
   "source": [
    "spend2=pd.pivot_table(data = customer_spend[customer_spend.Type=='AIR TICKET'],index = 'Type', columns='yearly_spend', values='Amount', aggfunc='sum')\n",
    "print(spend2)"
   ]
  },
  {
   "cell_type": "code",
   "execution_count": 98,
   "id": "e70b82e0",
   "metadata": {},
   "outputs": [
    {
     "data": {
      "image/png": "[encoded data removed]",
      "text/plain": [
       "<Figure size 432x288 with 1 Axes>"
      ]
     },
     "metadata": {},
     "output_type": "display_data"
    }
   ],
   "source": [
    "spend2.plot(kind='bar')\n",
    "plt.show()"
   ]
  },
  {
   "cell_type": "markdown",
   "id": "5921fe16",
   "metadata": {},
   "source": [
    "###  c. Comparison of monthly spend for each product (look for any seasonality that exists in terms of spend)"
   ]
  },
  {
   "cell_type": "code",
   "execution_count": 99,
   "id": "f9332fe7",
   "metadata": {},
   "outputs": [
    {
     "name": "stdout",
     "output_type": "stream",
     "text": [
      "Product               Gold     Platimum      Silver\n",
      "monthly_spend                                      \n",
      "1              32413831.83  14951578.51  4206383.62\n",
      "2              24779179.55   9134054.58  2087018.37\n",
      "3              19256972.48   7288837.68  3909405.83\n",
      "4              13170572.59   5182493.86  1902322.65\n",
      "5              21548169.76   8151926.49  2140940.01\n",
      "6               6538862.64   2965712.71   689537.61\n",
      "7               5167416.37   1288156.26   530153.72\n",
      "8               4954030.42   1714762.80   293109.82\n",
      "9               3816887.62   1667840.84   442803.13\n",
      "10              3018223.38    550275.04   100001.50\n",
      "11              9203267.46   2741618.42   691102.63\n",
      "12              2332940.96    750156.19   200537.90\n"
     ]
    }
   ],
   "source": [
    "spend3=pd.pivot_table(data = customer_spend,index = 'monthly_spend',columns='Product',values='Amount', aggfunc='sum')\n",
    "print(spend3)"
   ]
  },
  {
   "cell_type": "code",
   "execution_count": 103,
   "id": "a316239d",
   "metadata": {},
   "outputs": [
    {
     "data": {
      "image/png": "[encoded data removed]",
      "text/plain": [
       "<Figure size 432x288 with 1 Axes>"
      ]
     },
     "metadata": {},
     "output_type": "display_data"
    }
   ],
   "source": [
    "spend3.plot(kind='bar')\n",
    "plt.show()"
   ]
  },
  {
   "cell_type": "markdown",
   "id": "7a1dcaad",
   "metadata": {},
   "source": [
    "### 5. Write user defined PYTHON function to perform the following analysis:"
   ]
  },
  {
   "cell_type": "code",
   "execution_count": 130,
   "id": "798c9f29",
   "metadata": {},
   "outputs": [
    {
     "name": "stdout",
     "output_type": "stream",
     "text": [
      "       No Customer   Age        City   Product     Limit Company  \\\n",
      "0       1       A1  76.0   BANGALORE      Gold  500000.0      C1   \n",
      "1       1       A1  76.0   BANGALORE      Gold  500000.0      C1   \n",
      "2       1       A1  76.0   BANGALORE      Gold  500000.0      C1   \n",
      "3       1       A1  76.0   BANGALORE      Gold  500000.0      C1   \n",
      "4       1       A1  76.0   BANGALORE      Gold  500000.0      C1   \n",
      "...   ...      ...   ...         ...       ...       ...     ...   \n",
      "1495   96      A96  54.0     CHENNAI    Silver  100000.0     C19   \n",
      "1496   97      A97  58.0  TRIVANDRUM  Platimum   10000.0     C20   \n",
      "1497   98      A98  51.0    CALCUTTA  Platimum   10001.0     C21   \n",
      "1498   99      A99  35.0    CALCUTTA  Platimum   10002.0     C22   \n",
      "1499  100     A100  36.0      COCHIN    Silver  100000.0      C5   \n",
      "\n",
      "            Segment  SL No:      Month     Amount  Unnamed: 4  yearly  monthly  \n",
      "0     Self Employed     NaN 2004-01-12  495414.75         NaN    2004        1  \n",
      "1     Self Employed     2.0 2004-01-03  245899.02         NaN    2004        1  \n",
      "2     Self Employed     3.0 2004-01-15  259490.06         NaN    2004        1  \n",
      "3     Self Employed     4.0 2004-01-25  437555.12         NaN    2004        1  \n",
      "4     Self Employed     5.0 2005-01-17  165972.88         NaN    2005        1  \n",
      "...             ...     ...        ...        ...         ...     ...      ...  \n",
      "1495   Salaried_Pvt    98.0 2004-01-25   50000.00         NaN    2004        1  \n",
      "1496           Govt    99.0 2004-01-12    5000.00         NaN    2004        1  \n",
      "1497  Normal Salary   100.0 2004-01-03    5000.50         NaN    2004        1  \n",
      "1498  Self Employed   101.0 2004-01-15    5001.00         NaN    2004        1  \n",
      "1499   Salaried_MNC   102.0 2004-01-25   69551.19         NaN    2004        1  \n",
      "\n",
      "[1500 rows x 14 columns]\n"
     ]
    }
   ],
   "source": [
    "customer_repayment['yearly']=customer_repayment.Month.apply(lambda x:x.year)\n",
    "customer_repayment['monthly']=customer_repayment.Month.apply(lambda x:x.month)\n",
    "print(customer_repayment)"
   ]
  },
  {
   "cell_type": "code",
   "execution_count": 134,
   "id": "f94a8631",
   "metadata": {},
   "outputs": [],
   "source": [
    "def topcustomers(product_category,time_period):\n",
    "    return customer_repayment.loc[(customer_repayment.Product == product_category)].groupby(['Customer','City','Product',time_period]).Amount.sum().reset_index().sort_values('Amount',ascending=False).head(10)"
   ]
  },
  {
   "cell_type": "code",
   "execution_count": 137,
   "id": "0b22d956",
   "metadata": {},
   "outputs": [
    {
     "name": "stdout",
     "output_type": "stream",
     "text": [
      "Enter Product CategoryPlatimum\n",
      "Enter Time Periodmonthly\n"
     ]
    }
   ],
   "source": [
    "product_category=str(input(\"Enter Product Category\"))\n",
    "time_period=str(input(\"Enter Time Period\"))"
   ]
  },
  {
   "cell_type": "code",
   "execution_count": 138,
   "id": "c73cf950",
   "metadata": {},
   "outputs": [
    {
     "data": {
      "text/html": [
       "<div>\n",
       "<style scoped>\n",
       "    .dataframe tbody tr th:only-of-type {\n",
       "        vertical-align: middle;\n",
       "    }\n",
       "\n",
       "    .dataframe tbody tr th {\n",
       "        vertical-align: top;\n",
       "    }\n",
       "\n",
       "    .dataframe thead th {\n",
       "        text-align: right;\n",
       "    }\n",
       "</style>\n",
       "<table border=\"1\" class=\"dataframe\">\n",
       "  <thead>\n",
       "    <tr style=\"text-align: right;\">\n",
       "      <th></th>\n",
       "      <th>Customer</th>\n",
       "      <th>City</th>\n",
       "      <th>Product</th>\n",
       "      <th>monthly</th>\n",
       "      <th>Amount</th>\n",
       "    </tr>\n",
       "  </thead>\n",
       "  <tbody>\n",
       "    <tr>\n",
       "      <th>114</th>\n",
       "      <td>A41</td>\n",
       "      <td>COCHIN</td>\n",
       "      <td>Platimum</td>\n",
       "      <td>1</td>\n",
       "      <td>2089998.54</td>\n",
       "    </tr>\n",
       "    <tr>\n",
       "      <th>118</th>\n",
       "      <td>A41</td>\n",
       "      <td>COCHIN</td>\n",
       "      <td>Platimum</td>\n",
       "      <td>5</td>\n",
       "      <td>1999863.05</td>\n",
       "    </tr>\n",
       "    <tr>\n",
       "      <th>106</th>\n",
       "      <td>A40</td>\n",
       "      <td>CALCUTTA</td>\n",
       "      <td>Platimum</td>\n",
       "      <td>1</td>\n",
       "      <td>1749083.51</td>\n",
       "    </tr>\n",
       "    <tr>\n",
       "      <th>94</th>\n",
       "      <td>A39</td>\n",
       "      <td>TRIVANDRUM</td>\n",
       "      <td>Platimum</td>\n",
       "      <td>5</td>\n",
       "      <td>1668976.58</td>\n",
       "    </tr>\n",
       "    <tr>\n",
       "      <th>80</th>\n",
       "      <td>A38</td>\n",
       "      <td>CHENNAI</td>\n",
       "      <td>Platimum</td>\n",
       "      <td>1</td>\n",
       "      <td>1655584.31</td>\n",
       "    </tr>\n",
       "    <tr>\n",
       "      <th>90</th>\n",
       "      <td>A39</td>\n",
       "      <td>TRIVANDRUM</td>\n",
       "      <td>Platimum</td>\n",
       "      <td>1</td>\n",
       "      <td>1565119.57</td>\n",
       "    </tr>\n",
       "    <tr>\n",
       "      <th>208</th>\n",
       "      <td>A56</td>\n",
       "      <td>CHENNAI</td>\n",
       "      <td>Platimum</td>\n",
       "      <td>3</td>\n",
       "      <td>1500854.63</td>\n",
       "    </tr>\n",
       "    <tr>\n",
       "      <th>109</th>\n",
       "      <td>A40</td>\n",
       "      <td>CALCUTTA</td>\n",
       "      <td>Platimum</td>\n",
       "      <td>5</td>\n",
       "      <td>1401293.97</td>\n",
       "    </tr>\n",
       "    <tr>\n",
       "      <th>81</th>\n",
       "      <td>A38</td>\n",
       "      <td>CHENNAI</td>\n",
       "      <td>Platimum</td>\n",
       "      <td>2</td>\n",
       "      <td>1365681.76</td>\n",
       "    </tr>\n",
       "    <tr>\n",
       "      <th>91</th>\n",
       "      <td>A39</td>\n",
       "      <td>TRIVANDRUM</td>\n",
       "      <td>Platimum</td>\n",
       "      <td>2</td>\n",
       "      <td>1212860.65</td>\n",
       "    </tr>\n",
       "  </tbody>\n",
       "</table>\n",
       "</div>"
      ],
      "text/plain": [
       "    Customer        City   Product  monthly      Amount\n",
       "114      A41      COCHIN  Platimum        1  2089998.54\n",
       "118      A41      COCHIN  Platimum        5  1999863.05\n",
       "106      A40    CALCUTTA  Platimum        1  1749083.51\n",
       "94       A39  TRIVANDRUM  Platimum        5  1668976.58\n",
       "80       A38     CHENNAI  Platimum        1  1655584.31\n",
       "90       A39  TRIVANDRUM  Platimum        1  1565119.57\n",
       "208      A56     CHENNAI  Platimum        3  1500854.63\n",
       "109      A40    CALCUTTA  Platimum        5  1401293.97\n",
       "81       A38     CHENNAI  Platimum        2  1365681.76\n",
       "91       A39  TRIVANDRUM  Platimum        2  1212860.65"
      ]
     },
     "execution_count": 138,
     "metadata": {},
     "output_type": "execute_result"
    }
   ],
   "source": [
    "top10customers(product_category,time_period)"
   ]
  },
  {
   "cell_type": "code",
   "execution_count": null,
   "id": "242d6f5d",
   "metadata": {},
   "outputs": [],
   "source": []
  }
 ],
 "metadata": {
  "kernelspec": {
   "display_name": "Python 3",
   "language": "python",
   "name": "python3"
  },
  "language_info": {
   "codemirror_mode": {
    "name": "ipython",
    "version": 3
   },
   "file_extension": ".py",
   "mimetype": "text/x-python",
   "name": "python",
   "nbconvert_exporter": "python",
   "pygments_lexer": "ipython3",
   "version": "3.8.8"
  }
 },
 "nbformat": 4,
 "nbformat_minor": 5
}
